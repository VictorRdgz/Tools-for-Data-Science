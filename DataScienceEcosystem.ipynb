{
 "cells": [
  {
   "cell_type": "markdown",
   "id": "a7e5fc32",
   "metadata": {},
   "source": [
    "# Data Science Tools and Ecosystem"
   ]
  },
  {
   "cell_type": "markdown",
   "id": "e1ed6188",
   "metadata": {},
   "source": [
    ">In this notebook, Data Science Tools and Ecosystem are summarized."
   ]
  },
  {
   "cell_type": "markdown",
   "id": "72e7a6ae",
   "metadata": {},
   "source": [
    "Some of the popular languages that Data Scientists use are:\n",
    " <ol>\n",
    "    <li>Python</li>\n",
    "    <li>R</li>\n",
    "    <li>Java</li>\n",
    "    <li>JavaScrípt</li>\n",
    "    <li>C++</li>\n",
    "    <li>SQL</li>\n",
    "    <li>Julia</li>\n",
    " </ol>"
   ]
  },
  {
   "cell_type": "markdown",
   "id": "27652555",
   "metadata": {},
   "source": [
    "Some of the popular languages that Data Scientists use are:\n",
    " <ol>\n",
    "    <li>TensorFlow</li>\n",
    "    <li>NumPy</li>\n",
    "    <li>Pandas</li>\n",
    "    <li>PyTorch</li>\n",
    "    <li>SQL</li>\n",
    "    <li>SciPy</li>\n",
    "    <li>Keras</li>\n",
    "    <li>PyBrain</li>\n",
    " </ol>"
   ]
  },
  {
   "cell_type": "markdown",
   "id": "97b471de",
   "metadata": {},
   "source": [
    "| Data Science Tools | \n",
    "| -------------| \n",
    "| Anaconda | \n",
    "| Tableau |\n",
    "| Apache Spark | \n",
    "| RStudio |\n",
    "| Git |"
   ]
  },
  {
   "cell_type": "code",
   "execution_count": 11,
   "id": "58c5987e",
   "metadata": {},
   "outputs": [
    {
     "name": "stdout",
     "output_type": "stream",
     "text": [
      "175 150 2500\n"
     ]
    }
   ],
   "source": [
    "num1 = 100\n",
    "num2 = 50\n",
    "num3 = 25\n",
    "\n",
    "add = num1 + num2 + num3 \n",
    "sub = add - num3\n",
    "mul = num1 * num3\n",
    "print(add, sub, mul)"
   ]
  },
  {
   "cell_type": "code",
   "execution_count": 8,
   "id": "5daf1687",
   "metadata": {},
   "outputs": [
    {
     "name": "stdout",
     "output_type": "stream",
     "text": [
      "3.3333333333333335\n"
     ]
    }
   ],
   "source": [
    "minutes = 200\n",
    "seconds = 60 #per minute\n",
    "\n",
    "total = minutes / seconds\n",
    "print(total)"
   ]
  },
  {
   "cell_type": "markdown",
   "id": "0c2f819f",
   "metadata": {},
   "source": [
    "List popular languages for Data Science:\n",
    " <ul>\n",
    "    <li>Python</li>\n",
    "    <li>R</li>\n",
    "    <li>Java</li>\n",
    "    <li>JavaScrípt</li>\n",
    "    <li>C++</li>\n",
    "    <li>SQL</li>\n",
    "    <li>Julia</li>\n",
    " </ul>"
   ]
  },
  {
   "cell_type": "markdown",
   "id": "dcb67258",
   "metadata": {},
   "source": [
    "## Author: Victor Rodriguez"
   ]
  }
 ],
 "metadata": {
  "kernelspec": {
   "display_name": "Python 3 (ipykernel)",
   "language": "python",
   "name": "python3"
  },
  "language_info": {
   "codemirror_mode": {
    "name": "ipython",
    "version": 3
   },
   "file_extension": ".py",
   "mimetype": "text/x-python",
   "name": "python",
   "nbconvert_exporter": "python",
   "pygments_lexer": "ipython3",
   "version": "3.9.13"
  }
 },
 "nbformat": 4,
 "nbformat_minor": 5
}
