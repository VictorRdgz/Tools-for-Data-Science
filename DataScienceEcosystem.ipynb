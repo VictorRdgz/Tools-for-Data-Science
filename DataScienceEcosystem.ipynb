{
 "cells": [
  {
   "cell_type": "markdown",
   "id": "7ad88f42",
   "metadata": {},
   "source": [
    "# Data Science Tools and Ecosystem"
   ]
  },
  {
   "cell_type": "markdown",
   "id": "f71c74b0",
   "metadata": {},
   "source": [
    ">In this notebook, Data Science Tools and Ecosystem are summarized."
   ]
  },
  {
   "cell_type": "markdown",
   "id": "04430689",
   "metadata": {},
   "source": [
    "Some of the popular languages that Data Scientists use are:\n",
    " <ol>\n",
    "    <li>Python</li>\n",
    "    <li>R</li>\n",
    "    <li>Java</li>\n",
    "    <li>JavaScrípt</li>\n",
    "    <li>C++</li>\n",
    "    <li>SQL</li>\n",
    "    <li>Julia</li>\n",
    " </ol>"
   ]
  },
  {
   "cell_type": "markdown",
   "id": "88e91d6a",
   "metadata": {},
   "source": [
    "Some of the popular libraries that Data Scientists use are:\n",
    " <ol>\n",
    "    <li>TensorFlow</li>\n",
    "    <li>NumPy</li>\n",
    "    <li>Pandas</li>\n",
    "    <li>PyTorch</li>\n",
    "    <li>SQL</li>\n",
    "    <li>SciPy</li>\n",
    "    <li>Keras</li>\n",
    "    <li>PyBrain</li>\n",
    " </ol>"
   ]
  },
  {
   "cell_type": "markdown",
   "id": "3204c235",
   "metadata": {},
   "source": [
    "| Data Science Tools | \n",
    "| -------------| \n",
    "| Anaconda | \n",
    "| Tableau |\n",
    "| Apache Spark | \n",
    "| RStudio |\n",
    "| Git |"
   ]
  },
  {
   "cell_type": "markdown",
   "id": "e83c33f6",
   "metadata": {},
   "source": [
    "### Arithmetic Expression\n",
    "\n",
    "Addition -> (a + b) </br>\n",
    "Subtraction -> (a - b) </br>\n",
    "Multiplication -> (a * b) </br>\n",
    "Division -> (a / b) </br>\n",
    "Modulo -> (a % b) </br>\n",
    "Exponentiation -> (a ** b) </br>"
   ]
  },
  {
   "cell_type": "code",
   "execution_count": 12,
   "id": "90497b1e",
   "metadata": {},
   "outputs": [
    {
     "name": "stdout",
     "output_type": "stream",
     "text": [
      "175 150 2500\n"
     ]
    }
   ],
   "source": [
    "num1 = 100\n",
    "num2 = 50\n",
    "num3 = 25\n",
    "\n",
    "add = num1 + num2 + num3 \n",
    "sub = add - num3\n",
    "mul = num1 * num3\n",
    "print(add, sub, mul)"
   ]
  },
  {
   "cell_type": "code",
   "execution_count": 13,
   "id": "729b293f",
   "metadata": {},
   "outputs": [
    {
     "name": "stdout",
     "output_type": "stream",
     "text": [
      "3.3333333333333335\n"
     ]
    }
   ],
   "source": [
    "minutes = 200\n",
    "seconds = 60 #minutes per hour\n",
    "\n",
    "total = minutes / seconds\n",
    "print(total)"
   ]
  },
  {
   "cell_type": "markdown",
   "id": "15410f48",
   "metadata": {},
   "source": [
    "Objectives:\n",
    " <ul>\n",
    "    <li>Arithmetic Expression</li>\n",
    "    <li>List popular libraries for Data Science</li>\n",
    "    <li>Convert Minutes to Hours</li>\n",
    "    <li>List popular languages for Data Science</li>\n",
    "    <li>Objectives</li>\n",
    " </ul>"
   ]
  },
  {
   "cell_type": "markdown",
   "id": "3caf96b6",
   "metadata": {},
   "source": [
    "## Author: Victor Rodriguez"
   ]
  },
  {
   "cell_type": "code",
   "execution_count": null,
   "id": "70b63a2f",
   "metadata": {},
   "outputs": [],
   "source": []
  }
 ],
 "metadata": {
  "kernelspec": {
   "display_name": "Python 3 (ipykernel)",
   "language": "python",
   "name": "python3"
  },
  "language_info": {
   "codemirror_mode": {
    "name": "ipython",
    "version": 3
   },
   "file_extension": ".py",
   "mimetype": "text/x-python",
   "name": "python",
   "nbconvert_exporter": "python",
   "pygments_lexer": "ipython3",
   "version": "3.9.13"
  }
 },
 "nbformat": 4,
 "nbformat_minor": 5
}
